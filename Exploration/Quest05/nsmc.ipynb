{
 "cells": [
  {
   "cell_type": "markdown",
   "id": "b0020a6f",
   "metadata": {},
   "source": [
    "## Env"
   ]
  },
  {
   "cell_type": "code",
   "execution_count": 72,
   "id": "aeeb5e13",
   "metadata": {},
   "outputs": [
    {
     "name": "stdout",
     "output_type": "stream",
     "text": [
      "1.3.3\n",
      "0.5.2\n",
      "4.1.2\n"
     ]
    }
   ],
   "source": [
    "import pandas\n",
    "import konlpy\n",
    "import gensim\n",
    "from konlpy.tag import Mecab\n",
    "import numpy as np\n",
    "import pandas as pd\n",
    "import tensorflow as tf\n",
    "import matplotlib.pyplot as plt\n",
    "from collections import Counter\n",
    "import os\n",
    "from tensorflow.keras.initializers import Constant\n",
    "\n",
    "print(pandas.__version__)\n",
    "print(konlpy.__version__)\n",
    "print(gensim.__version__)"
   ]
  },
  {
   "cell_type": "markdown",
   "id": "a952c5c5",
   "metadata": {},
   "source": [
    "## 데이터 로더"
   ]
  },
  {
   "cell_type": "code",
   "execution_count": 2,
   "id": "53a93ea1",
   "metadata": {},
   "outputs": [
    {
     "data": {
      "text/html": [
       "<div>\n",
       "<style scoped>\n",
       "    .dataframe tbody tr th:only-of-type {\n",
       "        vertical-align: middle;\n",
       "    }\n",
       "\n",
       "    .dataframe tbody tr th {\n",
       "        vertical-align: top;\n",
       "    }\n",
       "\n",
       "    .dataframe thead th {\n",
       "        text-align: right;\n",
       "    }\n",
       "</style>\n",
       "<table border=\"1\" class=\"dataframe\">\n",
       "  <thead>\n",
       "    <tr style=\"text-align: right;\">\n",
       "      <th></th>\n",
       "      <th>id</th>\n",
       "      <th>document</th>\n",
       "      <th>label</th>\n",
       "    </tr>\n",
       "  </thead>\n",
       "  <tbody>\n",
       "    <tr>\n",
       "      <th>0</th>\n",
       "      <td>9976970</td>\n",
       "      <td>아 더빙.. 진짜 짜증나네요 목소리</td>\n",
       "      <td>0</td>\n",
       "    </tr>\n",
       "    <tr>\n",
       "      <th>1</th>\n",
       "      <td>3819312</td>\n",
       "      <td>흠...포스터보고 초딩영화줄....오버연기조차 가볍지 않구나</td>\n",
       "      <td>1</td>\n",
       "    </tr>\n",
       "    <tr>\n",
       "      <th>2</th>\n",
       "      <td>10265843</td>\n",
       "      <td>너무재밓었다그래서보는것을추천한다</td>\n",
       "      <td>0</td>\n",
       "    </tr>\n",
       "    <tr>\n",
       "      <th>3</th>\n",
       "      <td>9045019</td>\n",
       "      <td>교도소 이야기구먼 ..솔직히 재미는 없다..평점 조정</td>\n",
       "      <td>0</td>\n",
       "    </tr>\n",
       "    <tr>\n",
       "      <th>4</th>\n",
       "      <td>6483659</td>\n",
       "      <td>사이몬페그의 익살스런 연기가 돋보였던 영화!스파이더맨에서 늙어보이기만 했던 커스틴 ...</td>\n",
       "      <td>1</td>\n",
       "    </tr>\n",
       "  </tbody>\n",
       "</table>\n",
       "</div>"
      ],
      "text/plain": [
       "         id                                           document  label\n",
       "0   9976970                                아 더빙.. 진짜 짜증나네요 목소리      0\n",
       "1   3819312                  흠...포스터보고 초딩영화줄....오버연기조차 가볍지 않구나      1\n",
       "2  10265843                                  너무재밓었다그래서보는것을추천한다      0\n",
       "3   9045019                      교도소 이야기구먼 ..솔직히 재미는 없다..평점 조정      0\n",
       "4   6483659  사이몬페그의 익살스런 연기가 돋보였던 영화!스파이더맨에서 늙어보이기만 했던 커스틴 ...      1"
      ]
     },
     "execution_count": 2,
     "metadata": {},
     "output_type": "execute_result"
    }
   ],
   "source": [
    "# 데이터를 읽어봅시다. \n",
    "train_data = pd.read_table('~/aiffel/sentiment_classification/data/ratings_train.txt')\n",
    "test_data = pd.read_table('~/aiffel/sentiment_classification/data/ratings_test.txt')\n",
    "\n",
    "train_data.head()"
   ]
  },
  {
   "cell_type": "markdown",
   "id": "a5008346",
   "metadata": {},
   "source": [
    "## Tokenizer\n",
    "\n",
    "1. 데이터의 중복 제거\n",
    "2. NaN 결측치 제거\n",
    "3. 한국어 토크나이저로 토큰화\n",
    "4. 불용어 제거\n",
    "5. 사전(word_to_index) 구성\n",
    "6. 텍스트 스트링을 사전 인덱스 스트링으로 변환\n",
    "7. X_train, y_train, X_test, y_test, word_to_index 리턴"
   ]
  },
  {
   "cell_type": "code",
   "execution_count": 10,
   "id": "9f9f01eb",
   "metadata": {},
   "outputs": [],
   "source": [
    "tokenizer = Mecab() # 형태소 분석을 위한 Mecab\n",
    "stopwords = ['의','가','이','은','들','는','좀','잘','걍','과','도','를','으로','자','에','와','한','하다']\n",
    "\n",
    "def load_data(train_data, test_data, num_words=10000):\n",
    "    train_data.drop_duplicates(subset=['document'], inplace=True) # 중복 제거\n",
    "    train_data = train_data.dropna(how = 'any') # 결측치 제거\n",
    "    test_data.drop_duplicates(subset=['document'], inplace=True) # 중복 제거\n",
    "    test_data = test_data.dropna(how = 'any') # 결측치 제거\n",
    "    \n",
    "    X_train = []\n",
    "    for sentence in train_data['document']:\n",
    "        temp_X = tokenizer.morphs(sentence) # 토큰화\n",
    "        temp_X = [word for word in temp_X if not word in stopwords] # 불용어 제거\n",
    "        X_train.append(temp_X)\n",
    "\n",
    "    X_test = []\n",
    "    for sentence in test_data['document']:\n",
    "        temp_X = tokenizer.morphs(sentence) # 토큰화\n",
    "        temp_X = [word for word in temp_X if not word in stopwords] # 불용어 제거\n",
    "        X_test.append(temp_X)\n",
    "        \n",
    "    # 단어 사전 구성\n",
    "    words = np.concatenate(X_train).tolist()\n",
    "    counter = Counter(words) # 빈도 계산\n",
    "    counter = counter.most_common(10000-4) # 특수 토큰을 위해 -4 (패딩, 시작, 종료, 미등록)\n",
    "    vocab = ['', '', '', ''] + [key for key, _ in counter]\n",
    "    word_to_index = {word:index for index, word in enumerate(vocab)}\n",
    "        \n",
    "    def wordlist_to_indexlist(wordlist):\n",
    "        return [word_to_index[word] if word in word_to_index else word_to_index[''] for word in wordlist]\n",
    "        \n",
    "    X_train = list(map(wordlist_to_indexlist, X_train))\n",
    "    X_test = list(map(wordlist_to_indexlist, X_test))\n",
    "        \n",
    "    return X_train, np.array(list(train_data['label'])), X_test, np.array(list(test_data['label'])), word_to_index\n",
    "    \n",
    "X_train, y_train, X_test, y_test, word_to_index = load_data(train_data, test_data) "
   ]
  },
  {
   "cell_type": "code",
   "execution_count": 11,
   "id": "9da6ba47",
   "metadata": {},
   "outputs": [],
   "source": [
    "# word_to_index 사전을 역으로 변환하여, 단어에 대응하는 인덱스를 다시 단어로 변환\n",
    "index_to_word = {index:word for word, index in word_to_index.items()} "
   ]
  },
  {
   "cell_type": "code",
   "execution_count": 18,
   "id": "e0cb44e7",
   "metadata": {},
   "outputs": [],
   "source": [
    "word_to_index[\"<PAD>\"] = 0\n",
    "word_to_index[\"<BOS>\"] = 1\n",
    "word_to_index[\"<UNK>\"] = 2 \n",
    "word_to_index[\"<UNUSED>\"] = 3"
   ]
  },
  {
   "cell_type": "code",
   "execution_count": 12,
   "id": "2498dc6d",
   "metadata": {},
   "outputs": [],
   "source": [
    "# 문장 1개를 활용할 딕셔너리와 함께 주면, 단어 인덱스 리스트 벡터로 변환해 주는 함수입니다. \n",
    "# 단, 모든 문장은 <BOS>로 시작하는 것으로 합니다. \n",
    "def get_encoded_sentence(sentence, word_to_index):\n",
    "    return [word_to_index['<BOS>']]+[word_to_index[word] if word in word_to_index else word_to_index['<UNK>'] for word in sentence.split()]\n",
    "\n",
    "# 여러 개의 문장 리스트를 한꺼번에 단어 인덱스 리스트 벡터로 encode해 주는 함수입니다. \n",
    "def get_encoded_sentences(sentences, word_to_index):\n",
    "    return [get_encoded_sentence(sentence, word_to_index) for sentence in sentences]\n",
    "\n",
    "# 숫자 벡터로 encode된 문장을 원래대로 decode하는 함수입니다. \n",
    "def get_decoded_sentence(encoded_sentence, index_to_word):\n",
    "    return ' '.join(index_to_word[index] if index in index_to_word else '<UNK>' for index in encoded_sentence[1:])  #[1:]를 통해 <BOS>를 제외\n",
    "\n",
    "# 여러 개의 숫자 벡터로 encode된 문장을 한꺼번에 원래대로 decode하는 함수입니다. \n",
    "def get_decoded_sentences(encoded_sentences, index_to_word):\n",
    "    return [get_decoded_sentence(encoded_sentence, index_to_word) for encoded_sentence in encoded_sentences]"
   ]
  },
  {
   "cell_type": "markdown",
   "id": "74de8d6d",
   "metadata": {},
   "source": [
    "## 모델 구성을 위한 데이터 분석 및 가공"
   ]
  },
  {
   "cell_type": "code",
   "execution_count": 21,
   "id": "7c546ff6",
   "metadata": {},
   "outputs": [
    {
     "name": "stdout",
     "output_type": "stream",
     "text": [
      "문장길이 평균 :  15.96940191154864\n",
      "문장길이 최대 :  116\n",
      "문장길이 표준편차 :  12.843571191092\n",
      "pad_sequences maxlen :  41\n",
      "전체 문장의 0.9342988343341575%가 maxlen 설정값 이내에 포함됩니다. \n"
     ]
    }
   ],
   "source": [
    "total_data_text = list(X_train) + list(X_test)\n",
    "# 텍스트데이터 문장길이의 리스트를 생성한 후\n",
    "num_tokens = [len(tokens) for tokens in total_data_text]\n",
    "num_tokens = np.array(num_tokens)\n",
    "# 문장길이의 평균값, 최대값, 표준편차를 계산해 본다. \n",
    "print('문장길이 평균 : ', np.mean(num_tokens))\n",
    "print('문장길이 최대 : ', np.max(num_tokens))\n",
    "print('문장길이 표준편차 : ', np.std(num_tokens))\n",
    "\n",
    "# 예를들어, 최대 길이를 (평균 + 2*표준편차)로 한다면,  \n",
    "max_tokens = np.mean(num_tokens) + 2 * np.std(num_tokens)\n",
    "maxlen = int(max_tokens)\n",
    "print('pad_sequences maxlen : ', maxlen)\n",
    "print(f'전체 문장의 {np.sum(num_tokens < max_tokens) / len(num_tokens)}%가 maxlen 설정값 이내에 포함됩니다. ')"
   ]
  },
  {
   "cell_type": "code",
   "execution_count": 23,
   "id": "920f6d89",
   "metadata": {},
   "outputs": [
    {
     "name": "stdout",
     "output_type": "stream",
     "text": [
      "(146182, 41)\n"
     ]
    }
   ],
   "source": [
    "X_train = tf.keras.preprocessing.sequence.pad_sequences(X_train,\n",
    "                                                        value=word_to_index[\"<PAD>\"],\n",
    "                                                        padding='pre',\n",
    "                                                        maxlen=maxlen)\n",
    "\n",
    "X_test = tf.keras.preprocessing.sequence.pad_sequences(X_test,\n",
    "                                                       value=word_to_index[\"<PAD>\"],\n",
    "                                                       padding='pre',\n",
    "                                                       maxlen=maxlen)\n",
    "\n",
    "print(X_train.shape)"
   ]
  },
  {
   "cell_type": "markdown",
   "id": "5c25729c",
   "metadata": {},
   "source": [
    "## 모델 구성 및 validation set 구성"
   ]
  },
  {
   "cell_type": "code",
   "execution_count": 24,
   "id": "f04f6c83",
   "metadata": {},
   "outputs": [],
   "source": [
    "vocab_size = 10000 # 어휘 사전 크기\n",
    "word_vector_dim = 16 # 워드 벡터 차원 수"
   ]
  },
  {
   "cell_type": "code",
   "execution_count": 27,
   "id": "5f5da7bb",
   "metadata": {},
   "outputs": [
    {
     "name": "stdout",
     "output_type": "stream",
     "text": [
      "Model: \"sequential_2\"\n",
      "_________________________________________________________________\n",
      "Layer (type)                 Output Shape              Param #   \n",
      "=================================================================\n",
      "embedding_1 (Embedding)      (None, None, 16)          160000    \n",
      "_________________________________________________________________\n",
      "lstm_1 (LSTM)                (None, 16)                2112      \n",
      "_________________________________________________________________\n",
      "dense_2 (Dense)              (None, 16)                272       \n",
      "_________________________________________________________________\n",
      "dense_3 (Dense)              (None, 1)                 17        \n",
      "=================================================================\n",
      "Total params: 162,401\n",
      "Trainable params: 162,401\n",
      "Non-trainable params: 0\n",
      "_________________________________________________________________\n"
     ]
    }
   ],
   "source": [
    "# 1. LSTM\n",
    "model1 = tf.keras.Sequential()\n",
    "model1.add(tf.keras.layers.Embedding(vocab_size, word_vector_dim, input_shape = (None, )))\n",
    "model1.add(tf.keras.layers.LSTM(16))\n",
    "model1.add(tf.keras.layers.Dense(16, activation = 'relu'))\n",
    "model1.add(tf.keras.layers.Dense(1, activation = 'sigmoid')) # 긍정 부정을 나타내야하기에\n",
    "\n",
    "model1.summary()"
   ]
  },
  {
   "cell_type": "code",
   "execution_count": 28,
   "id": "68b3724f",
   "metadata": {},
   "outputs": [
    {
     "name": "stdout",
     "output_type": "stream",
     "text": [
      "Model: \"sequential_3\"\n",
      "_________________________________________________________________\n",
      "Layer (type)                 Output Shape              Param #   \n",
      "=================================================================\n",
      "embedding_2 (Embedding)      (None, None, 16)          160000    \n",
      "_________________________________________________________________\n",
      "bidirectional (Bidirectional (None, 32)                4224      \n",
      "_________________________________________________________________\n",
      "dense_4 (Dense)              (None, 16)                528       \n",
      "_________________________________________________________________\n",
      "dense_5 (Dense)              (None, 1)                 17        \n",
      "=================================================================\n",
      "Total params: 164,769\n",
      "Trainable params: 164,769\n",
      "Non-trainable params: 0\n",
      "_________________________________________________________________\n"
     ]
    }
   ],
   "source": [
    "# 2. BiLSTM\n",
    "model2 = tf.keras.Sequential()\n",
    "model2.add(tf.keras.layers.Embedding(vocab_size, word_vector_dim, input_shape = (None, )))  \n",
    "model2.add(tf.keras.layers.Bidirectional(tf.keras.layers.LSTM(16))) \n",
    "model2.add(tf.keras.layers.Dense(16, activation='relu')) \n",
    "model2.add(tf.keras.layers.Dense(1, activation='sigmoid'))\n",
    "\n",
    "model2.summary()"
   ]
  },
  {
   "cell_type": "code",
   "execution_count": 29,
   "id": "ae8ed1d0",
   "metadata": {},
   "outputs": [
    {
     "name": "stdout",
     "output_type": "stream",
     "text": [
      "Model: \"sequential_4\"\n",
      "_________________________________________________________________\n",
      "Layer (type)                 Output Shape              Param #   \n",
      "=================================================================\n",
      "embedding_3 (Embedding)      (None, None, 16)          160000    \n",
      "_________________________________________________________________\n",
      "lstm_3 (LSTM)                (None, None, 64)          20736     \n",
      "_________________________________________________________________\n",
      "lstm_4 (LSTM)                (None, 32)                12416     \n",
      "_________________________________________________________________\n",
      "dense_6 (Dense)              (None, 16)                528       \n",
      "_________________________________________________________________\n",
      "dense_7 (Dense)              (None, 1)                 17        \n",
      "=================================================================\n",
      "Total params: 193,697\n",
      "Trainable params: 193,697\n",
      "Non-trainable params: 0\n",
      "_________________________________________________________________\n"
     ]
    }
   ],
   "source": [
    "# 3. Stacked LSTM\n",
    "model3 = tf.keras.Sequential()\n",
    "model3.add(tf.keras.layers.Embedding(vocab_size, word_vector_dim, input_shape = (None, )))\n",
    "model3.add(tf.keras.layers.LSTM(64, return_sequences = True)) # 출력 시퀀스로 반환\n",
    "model3.add(tf.keras.layers.LSTM(32)) # 출력 시퀀슬 반환 X\n",
    "model3.add(tf.keras.layers.Dense(16, activation = 'relu'))\n",
    "model3.add(tf.keras.layers.Dense(1, activation = 'sigmoid'))\n",
    "\n",
    "model3.summary()"
   ]
  },
  {
   "cell_type": "code",
   "execution_count": 32,
   "id": "f8f87b49",
   "metadata": {},
   "outputs": [
    {
     "name": "stdout",
     "output_type": "stream",
     "text": [
      "(46182, 41)\n",
      "(46182,)\n"
     ]
    }
   ],
   "source": [
    "x_val = X_train[:100000]   \n",
    "y_val = y_train[:100000]\n",
    "\n",
    "# validation set을 제외한 나머지\n",
    "partial_x_train = X_train[100000:]  \n",
    "partial_y_train = y_train[100000:]\n",
    "\n",
    "print(partial_x_train.shape)\n",
    "print(partial_y_train.shape)"
   ]
  },
  {
   "cell_type": "code",
   "execution_count": 52,
   "id": "7adac7e6",
   "metadata": {},
   "outputs": [
    {
     "name": "stdout",
     "output_type": "stream",
     "text": [
      "Epoch 1/30\n",
      "91/91 [==============================] - 3s 15ms/step - loss: 0.0353 - accuracy: 0.9878 - val_loss: 1.7093 - val_accuracy: 0.7824\n",
      "Epoch 2/30\n",
      "91/91 [==============================] - 1s 10ms/step - loss: 0.0394 - accuracy: 0.9864 - val_loss: 1.7372 - val_accuracy: 0.7866\n",
      "Epoch 3/30\n",
      "91/91 [==============================] - 1s 10ms/step - loss: 0.0304 - accuracy: 0.9893 - val_loss: 1.8682 - val_accuracy: 0.7843\n",
      "Epoch 4/30\n",
      "91/91 [==============================] - 1s 10ms/step - loss: 0.0345 - accuracy: 0.9881 - val_loss: 1.8568 - val_accuracy: 0.7834\n",
      "Epoch 5/30\n",
      "91/91 [==============================] - 1s 10ms/step - loss: 0.0348 - accuracy: 0.9878 - val_loss: 1.7761 - val_accuracy: 0.7845\n",
      "Epoch 6/30\n",
      "91/91 [==============================] - 1s 10ms/step - loss: 0.0412 - accuracy: 0.9861 - val_loss: 1.7148 - val_accuracy: 0.7845\n",
      "Epoch 7/30\n",
      "91/91 [==============================] - 1s 10ms/step - loss: 0.0353 - accuracy: 0.9874 - val_loss: 1.7382 - val_accuracy: 0.7836\n",
      "Epoch 8/30\n",
      "91/91 [==============================] - 1s 10ms/step - loss: 0.0299 - accuracy: 0.9894 - val_loss: 1.9471 - val_accuracy: 0.7845\n",
      "Epoch 9/30\n",
      "91/91 [==============================] - 1s 10ms/step - loss: 0.0287 - accuracy: 0.9899 - val_loss: 1.7742 - val_accuracy: 0.7868\n",
      "Epoch 10/30\n",
      "91/91 [==============================] - 1s 10ms/step - loss: 0.0263 - accuracy: 0.9902 - val_loss: 1.9366 - val_accuracy: 0.7845\n",
      "Epoch 11/30\n",
      "91/91 [==============================] - 1s 10ms/step - loss: 0.0245 - accuracy: 0.9913 - val_loss: 2.0199 - val_accuracy: 0.7846\n",
      "Epoch 12/30\n",
      "91/91 [==============================] - 1s 10ms/step - loss: 0.0239 - accuracy: 0.9913 - val_loss: 1.9873 - val_accuracy: 0.7854\n",
      "Epoch 13/30\n",
      "91/91 [==============================] - 1s 10ms/step - loss: 0.0239 - accuracy: 0.9915 - val_loss: 2.0544 - val_accuracy: 0.7829\n",
      "Epoch 14/30\n",
      "91/91 [==============================] - 1s 10ms/step - loss: 0.0256 - accuracy: 0.9908 - val_loss: 2.1924 - val_accuracy: 0.7846\n",
      "Epoch 15/30\n",
      "91/91 [==============================] - 1s 10ms/step - loss: 0.0394 - accuracy: 0.9861 - val_loss: 1.9278 - val_accuracy: 0.7844\n",
      "Epoch 16/30\n",
      "91/91 [==============================] - 1s 10ms/step - loss: 0.0357 - accuracy: 0.9880 - val_loss: 1.8603 - val_accuracy: 0.7863\n",
      "Epoch 17/30\n",
      "91/91 [==============================] - 1s 10ms/step - loss: 0.0301 - accuracy: 0.9892 - val_loss: 1.9760 - val_accuracy: 0.7868\n",
      "Epoch 18/30\n",
      "91/91 [==============================] - 1s 10ms/step - loss: 0.0345 - accuracy: 0.9879 - val_loss: 1.9169 - val_accuracy: 0.7831\n",
      "Epoch 19/30\n",
      "91/91 [==============================] - 1s 10ms/step - loss: 0.0265 - accuracy: 0.9899 - val_loss: 1.9057 - val_accuracy: 0.7850\n",
      "Epoch 20/30\n",
      "91/91 [==============================] - 1s 10ms/step - loss: 0.0250 - accuracy: 0.9913 - val_loss: 2.0023 - val_accuracy: 0.7854\n",
      "Epoch 21/30\n",
      "91/91 [==============================] - 1s 10ms/step - loss: 0.0241 - accuracy: 0.9916 - val_loss: 1.9609 - val_accuracy: 0.7842\n",
      "Epoch 22/30\n",
      "91/91 [==============================] - 1s 10ms/step - loss: 0.0213 - accuracy: 0.9926 - val_loss: 2.1358 - val_accuracy: 0.7862\n",
      "Epoch 23/30\n",
      "91/91 [==============================] - 1s 10ms/step - loss: 0.0202 - accuracy: 0.9931 - val_loss: 2.2800 - val_accuracy: 0.7854\n",
      "Epoch 24/30\n",
      "91/91 [==============================] - 1s 10ms/step - loss: 0.0198 - accuracy: 0.9930 - val_loss: 2.1762 - val_accuracy: 0.7842\n",
      "Epoch 25/30\n",
      "91/91 [==============================] - 1s 10ms/step - loss: 0.0207 - accuracy: 0.9924 - val_loss: 2.2361 - val_accuracy: 0.7833\n",
      "Epoch 26/30\n",
      "91/91 [==============================] - 1s 10ms/step - loss: 0.0188 - accuracy: 0.9933 - val_loss: 2.4370 - val_accuracy: 0.7835\n",
      "Epoch 27/30\n",
      "91/91 [==============================] - 1s 10ms/step - loss: 0.0191 - accuracy: 0.9931 - val_loss: 2.3208 - val_accuracy: 0.7866\n",
      "Epoch 28/30\n",
      "91/91 [==============================] - 1s 10ms/step - loss: 0.0197 - accuracy: 0.9925 - val_loss: 2.4062 - val_accuracy: 0.7841\n",
      "Epoch 29/30\n",
      "91/91 [==============================] - 1s 10ms/step - loss: 0.0205 - accuracy: 0.9923 - val_loss: 2.3963 - val_accuracy: 0.7837\n",
      "Epoch 30/30\n",
      "91/91 [==============================] - 1s 10ms/step - loss: 0.0219 - accuracy: 0.9921 - val_loss: 2.4863 - val_accuracy: 0.7818\n"
     ]
    }
   ],
   "source": [
    "model1.compile(optimizer='adam',\n",
    "              loss='binary_crossentropy',\n",
    "              metrics=['accuracy'])\n",
    "              \n",
    "epochs = 30  \n",
    "\n",
    "history1 = model1.fit(partial_x_train,\n",
    "                    partial_y_train,\n",
    "                    epochs=epochs,\n",
    "                    batch_size=512,\n",
    "                    validation_data=(x_val, y_val),\n",
    "                    verbose=1)"
   ]
  },
  {
   "cell_type": "code",
   "execution_count": 53,
   "id": "98bafb79",
   "metadata": {},
   "outputs": [
    {
     "name": "stdout",
     "output_type": "stream",
     "text": [
      "Epoch 1/30\n",
      "91/91 [==============================] - 5s 21ms/step - loss: 0.0381 - accuracy: 0.9872 - val_loss: 1.8143 - val_accuracy: 0.7816\n",
      "Epoch 2/30\n",
      "91/91 [==============================] - 1s 13ms/step - loss: 0.0301 - accuracy: 0.9906 - val_loss: 1.8166 - val_accuracy: 0.7832\n",
      "Epoch 3/30\n",
      "91/91 [==============================] - 1s 14ms/step - loss: 0.0281 - accuracy: 0.9913 - val_loss: 1.8637 - val_accuracy: 0.7792\n",
      "Epoch 4/30\n",
      "91/91 [==============================] - 1s 13ms/step - loss: 0.0275 - accuracy: 0.9915 - val_loss: 2.0076 - val_accuracy: 0.7813\n",
      "Epoch 5/30\n",
      "91/91 [==============================] - 1s 14ms/step - loss: 0.0350 - accuracy: 0.9885 - val_loss: 1.8130 - val_accuracy: 0.7837\n",
      "Epoch 6/30\n",
      "91/91 [==============================] - 1s 14ms/step - loss: 0.0331 - accuracy: 0.9892 - val_loss: 1.8662 - val_accuracy: 0.7828\n",
      "Epoch 7/30\n",
      "91/91 [==============================] - 1s 13ms/step - loss: 0.0299 - accuracy: 0.9901 - val_loss: 1.8355 - val_accuracy: 0.7799\n",
      "Epoch 8/30\n",
      "91/91 [==============================] - 1s 13ms/step - loss: 0.0309 - accuracy: 0.9898 - val_loss: 2.0587 - val_accuracy: 0.7829\n",
      "Epoch 9/30\n",
      "91/91 [==============================] - 1s 13ms/step - loss: 0.0306 - accuracy: 0.9900 - val_loss: 1.8800 - val_accuracy: 0.7817\n",
      "Epoch 10/30\n",
      "91/91 [==============================] - 1s 14ms/step - loss: 0.0249 - accuracy: 0.9919 - val_loss: 1.8622 - val_accuracy: 0.7801\n",
      "Epoch 11/30\n",
      "91/91 [==============================] - 1s 13ms/step - loss: 0.0247 - accuracy: 0.9923 - val_loss: 2.0348 - val_accuracy: 0.7813\n",
      "Epoch 12/30\n",
      "91/91 [==============================] - 1s 13ms/step - loss: 0.0260 - accuracy: 0.9918 - val_loss: 1.9878 - val_accuracy: 0.7833\n",
      "Epoch 13/30\n",
      "91/91 [==============================] - 1s 13ms/step - loss: 0.0228 - accuracy: 0.9928 - val_loss: 2.0957 - val_accuracy: 0.7805\n",
      "Epoch 14/30\n",
      "91/91 [==============================] - 1s 13ms/step - loss: 0.0217 - accuracy: 0.9929 - val_loss: 2.0660 - val_accuracy: 0.7813\n",
      "Epoch 15/30\n",
      "91/91 [==============================] - 1s 13ms/step - loss: 0.0214 - accuracy: 0.9929 - val_loss: 2.2005 - val_accuracy: 0.7778\n",
      "Epoch 16/30\n",
      "91/91 [==============================] - 1s 13ms/step - loss: 0.0201 - accuracy: 0.9933 - val_loss: 2.3119 - val_accuracy: 0.7784\n",
      "Epoch 17/30\n",
      "91/91 [==============================] - 1s 13ms/step - loss: 0.0191 - accuracy: 0.9940 - val_loss: 2.3678 - val_accuracy: 0.7793\n",
      "Epoch 18/30\n",
      "91/91 [==============================] - 1s 13ms/step - loss: 0.0223 - accuracy: 0.9924 - val_loss: 2.3063 - val_accuracy: 0.7771\n",
      "Epoch 19/30\n",
      "91/91 [==============================] - 1s 13ms/step - loss: 0.0320 - accuracy: 0.9894 - val_loss: 2.1402 - val_accuracy: 0.7822\n",
      "Epoch 20/30\n",
      "91/91 [==============================] - 1s 13ms/step - loss: 0.0308 - accuracy: 0.9894 - val_loss: 1.9750 - val_accuracy: 0.7764\n",
      "Epoch 21/30\n",
      "91/91 [==============================] - 1s 13ms/step - loss: 0.0327 - accuracy: 0.9886 - val_loss: 2.0009 - val_accuracy: 0.7821\n",
      "Epoch 22/30\n",
      "91/91 [==============================] - 1s 13ms/step - loss: 0.0233 - accuracy: 0.9921 - val_loss: 2.1228 - val_accuracy: 0.7832\n",
      "Epoch 23/30\n",
      "91/91 [==============================] - 1s 14ms/step - loss: 0.0221 - accuracy: 0.9925 - val_loss: 2.0194 - val_accuracy: 0.7814\n",
      "Epoch 24/30\n",
      "91/91 [==============================] - 1s 14ms/step - loss: 0.0186 - accuracy: 0.9935 - val_loss: 2.2318 - val_accuracy: 0.7807\n",
      "Epoch 25/30\n",
      "91/91 [==============================] - 1s 13ms/step - loss: 0.0169 - accuracy: 0.9945 - val_loss: 2.2646 - val_accuracy: 0.7804\n",
      "Epoch 26/30\n",
      "91/91 [==============================] - 1s 14ms/step - loss: 0.0162 - accuracy: 0.9943 - val_loss: 2.3721 - val_accuracy: 0.7793\n",
      "Epoch 27/30\n",
      "91/91 [==============================] - 1s 13ms/step - loss: 0.0165 - accuracy: 0.9942 - val_loss: 2.3272 - val_accuracy: 0.7807\n",
      "Epoch 28/30\n",
      "91/91 [==============================] - 1s 13ms/step - loss: 0.0155 - accuracy: 0.9946 - val_loss: 2.4587 - val_accuracy: 0.7809\n",
      "Epoch 29/30\n",
      "91/91 [==============================] - 1s 13ms/step - loss: 0.0149 - accuracy: 0.9950 - val_loss: 2.5241 - val_accuracy: 0.7806\n",
      "Epoch 30/30\n",
      "91/91 [==============================] - 1s 13ms/step - loss: 0.0145 - accuracy: 0.9950 - val_loss: 2.5705 - val_accuracy: 0.7793\n"
     ]
    }
   ],
   "source": [
    "model2.compile(optimizer='adam',\n",
    "              loss='binary_crossentropy',\n",
    "              metrics=['accuracy'])\n",
    "              \n",
    "epochs = 30  \n",
    "\n",
    "history2 = model2.fit(partial_x_train,\n",
    "                    partial_y_train,\n",
    "                    epochs=epochs,\n",
    "                    batch_size=512,\n",
    "                    validation_data=(x_val, y_val),\n",
    "                    verbose=1)"
   ]
  },
  {
   "cell_type": "code",
   "execution_count": 54,
   "id": "ba48d9c2",
   "metadata": {},
   "outputs": [
    {
     "name": "stdout",
     "output_type": "stream",
     "text": [
      "Epoch 1/30\n",
      "91/91 [==============================] - 5s 23ms/step - loss: 0.0151 - accuracy: 0.9937 - val_loss: 2.0121 - val_accuracy: 0.7892\n",
      "Epoch 2/30\n",
      "91/91 [==============================] - 1s 15ms/step - loss: 0.0118 - accuracy: 0.9950 - val_loss: 2.0257 - val_accuracy: 0.7907\n",
      "Epoch 3/30\n",
      "91/91 [==============================] - 1s 15ms/step - loss: 0.0151 - accuracy: 0.9939 - val_loss: 2.0084 - val_accuracy: 0.7883\n",
      "Epoch 4/30\n",
      "91/91 [==============================] - 1s 15ms/step - loss: 0.0127 - accuracy: 0.9947 - val_loss: 2.0242 - val_accuracy: 0.7909\n",
      "Epoch 5/30\n",
      "91/91 [==============================] - 1s 15ms/step - loss: 0.0143 - accuracy: 0.9943 - val_loss: 1.9811 - val_accuracy: 0.7888\n",
      "Epoch 6/30\n",
      "91/91 [==============================] - 1s 15ms/step - loss: 0.0114 - accuracy: 0.9952 - val_loss: 2.0605 - val_accuracy: 0.7886\n",
      "Epoch 7/30\n",
      "91/91 [==============================] - 1s 15ms/step - loss: 0.0095 - accuracy: 0.9959 - val_loss: 2.1649 - val_accuracy: 0.7906\n",
      "Epoch 8/30\n",
      "91/91 [==============================] - 1s 15ms/step - loss: 0.0084 - accuracy: 0.9966 - val_loss: 2.2400 - val_accuracy: 0.7882\n",
      "Epoch 9/30\n",
      "91/91 [==============================] - 1s 15ms/step - loss: 0.0078 - accuracy: 0.9966 - val_loss: 2.3404 - val_accuracy: 0.7875\n",
      "Epoch 10/30\n",
      "91/91 [==============================] - 1s 15ms/step - loss: 0.0094 - accuracy: 0.9960 - val_loss: 2.3699 - val_accuracy: 0.7862\n",
      "Epoch 11/30\n",
      "91/91 [==============================] - 1s 15ms/step - loss: 0.0114 - accuracy: 0.9951 - val_loss: 2.2814 - val_accuracy: 0.7849\n",
      "Epoch 12/30\n",
      "91/91 [==============================] - 1s 15ms/step - loss: 0.0118 - accuracy: 0.9951 - val_loss: 2.1714 - val_accuracy: 0.7864\n",
      "Epoch 13/30\n",
      "91/91 [==============================] - 1s 16ms/step - loss: 0.0114 - accuracy: 0.9956 - val_loss: 2.1785 - val_accuracy: 0.7879\n",
      "Epoch 14/30\n",
      "91/91 [==============================] - 1s 15ms/step - loss: 0.0106 - accuracy: 0.9956 - val_loss: 2.1670 - val_accuracy: 0.7884\n",
      "Epoch 15/30\n",
      "91/91 [==============================] - 1s 15ms/step - loss: 0.0096 - accuracy: 0.9958 - val_loss: 2.2844 - val_accuracy: 0.7887\n",
      "Epoch 16/30\n",
      "91/91 [==============================] - 1s 15ms/step - loss: 0.0131 - accuracy: 0.9950 - val_loss: 2.0562 - val_accuracy: 0.7903\n",
      "Epoch 17/30\n",
      "91/91 [==============================] - 1s 15ms/step - loss: 0.0094 - accuracy: 0.9960 - val_loss: 2.2236 - val_accuracy: 0.7841\n",
      "Epoch 18/30\n",
      "91/91 [==============================] - 1s 15ms/step - loss: 0.0096 - accuracy: 0.9958 - val_loss: 2.1498 - val_accuracy: 0.7890\n",
      "Epoch 19/30\n",
      "91/91 [==============================] - 1s 15ms/step - loss: 0.0077 - accuracy: 0.9968 - val_loss: 2.3508 - val_accuracy: 0.7899\n",
      "Epoch 20/30\n",
      "91/91 [==============================] - 1s 15ms/step - loss: 0.0072 - accuracy: 0.9964 - val_loss: 2.3122 - val_accuracy: 0.7926\n",
      "Epoch 21/30\n",
      "91/91 [==============================] - 1s 15ms/step - loss: 0.0077 - accuracy: 0.9965 - val_loss: 2.3841 - val_accuracy: 0.7895\n",
      "Epoch 22/30\n",
      "91/91 [==============================] - 1s 15ms/step - loss: 0.0116 - accuracy: 0.9953 - val_loss: 2.1307 - val_accuracy: 0.7893\n",
      "Epoch 23/30\n",
      "91/91 [==============================] - 1s 15ms/step - loss: 0.0113 - accuracy: 0.9952 - val_loss: 2.1520 - val_accuracy: 0.7939\n",
      "Epoch 24/30\n",
      "91/91 [==============================] - 1s 15ms/step - loss: 0.0108 - accuracy: 0.9956 - val_loss: 2.2104 - val_accuracy: 0.7857\n",
      "Epoch 25/30\n",
      "91/91 [==============================] - 1s 15ms/step - loss: 0.0086 - accuracy: 0.9964 - val_loss: 2.1984 - val_accuracy: 0.7894\n",
      "Epoch 26/30\n",
      "91/91 [==============================] - 1s 15ms/step - loss: 0.0067 - accuracy: 0.9970 - val_loss: 2.3075 - val_accuracy: 0.7918\n",
      "Epoch 27/30\n",
      "91/91 [==============================] - 1s 15ms/step - loss: 0.0058 - accuracy: 0.9975 - val_loss: 2.3969 - val_accuracy: 0.7918\n",
      "Epoch 28/30\n",
      "91/91 [==============================] - 1s 15ms/step - loss: 0.0052 - accuracy: 0.9977 - val_loss: 2.5211 - val_accuracy: 0.7892\n",
      "Epoch 29/30\n",
      "91/91 [==============================] - 1s 15ms/step - loss: 0.0051 - accuracy: 0.9975 - val_loss: 2.5782 - val_accuracy: 0.7904\n",
      "Epoch 30/30\n",
      "91/91 [==============================] - 1s 15ms/step - loss: 0.0048 - accuracy: 0.9974 - val_loss: 2.6640 - val_accuracy: 0.7897\n"
     ]
    }
   ],
   "source": [
    "model3.compile(optimizer='adam',\n",
    "              loss='binary_crossentropy',\n",
    "              metrics=['accuracy'])\n",
    "              \n",
    "epochs = 30  \n",
    "\n",
    "history3 = model3.fit(partial_x_train,\n",
    "                    partial_y_train,\n",
    "                    epochs=epochs,\n",
    "                    batch_size=512,\n",
    "                    validation_data=(x_val, y_val),\n",
    "                    verbose=1)"
   ]
  },
  {
   "cell_type": "code",
   "execution_count": 55,
   "id": "54f96294",
   "metadata": {},
   "outputs": [
    {
     "name": "stdout",
     "output_type": "stream",
     "text": [
      "1537/1537 - 3s - loss: 2.5302 - accuracy: 0.7773\n",
      "[2.5301895141601562, 0.7772646546363831]\n"
     ]
    }
   ],
   "source": [
    "results1 = model1.evaluate(X_test,  y_test, verbose=2)\n",
    "\n",
    "print(results1)"
   ]
  },
  {
   "cell_type": "code",
   "execution_count": 56,
   "id": "f5bf5d1d",
   "metadata": {},
   "outputs": [
    {
     "name": "stdout",
     "output_type": "stream",
     "text": [
      "1537/1537 - 4s - loss: 2.5973 - accuracy: 0.7750\n",
      "[2.5973281860351562, 0.7750065922737122]\n"
     ]
    }
   ],
   "source": [
    "results2 = model2.evaluate(X_test,  y_test, verbose=2)\n",
    "\n",
    "print(results2)"
   ]
  },
  {
   "cell_type": "code",
   "execution_count": 57,
   "id": "ede7a452",
   "metadata": {},
   "outputs": [
    {
     "name": "stdout",
     "output_type": "stream",
     "text": [
      "1537/1537 - 4s - loss: 2.7057 - accuracy: 0.7864\n",
      "[2.705745220184326, 0.7864190340042114]\n"
     ]
    }
   ],
   "source": [
    "results3 = model3.evaluate(X_test,  y_test, verbose=2)\n",
    "\n",
    "print(results3)"
   ]
  },
  {
   "cell_type": "code",
   "execution_count": 64,
   "id": "84a240f4",
   "metadata": {},
   "outputs": [
    {
     "name": "stdout",
     "output_type": "stream",
     "text": [
      "dict_keys(['loss', 'accuracy', 'val_loss', 'val_accuracy'])\n"
     ]
    },
    {
     "data": {
      "image/png": "[encoded data removed]",
      "text/plain": [
       "<Figure size 432x288 with 1 Axes>"
      ]
     },
     "metadata": {
      "needs_background": "light"
     },
     "output_type": "display_data"
    }
   ],
   "source": [
    "history_dict1 = history.history\n",
    "print(history_dict1.keys()) \n",
    "\n",
    "acc = history_dict1['accuracy']\n",
    "val_acc = history_dict1['val_accuracy']\n",
    "loss = history_dict1['loss']\n",
    "val_loss = history_dict1['val_loss']\n",
    "\n",
    "epochs = range(1, len(acc) + 1)\n",
    "\n",
    "# \"bo\"는 \"파란색 점\"입니다\n",
    "plt.plot(epochs, loss, 'bo', label='Training loss')\n",
    "# b는 \"파란 실선\"입니다\n",
    "plt.plot(epochs, val_loss, 'b', label='Validation loss')\n",
    "plt.title('Training and validation loss')\n",
    "plt.xlabel('Epochs')\n",
    "plt.ylabel('Loss')\n",
    "plt.legend()\n",
    "\n",
    "plt.show()"
   ]
  },
  {
   "cell_type": "code",
   "execution_count": 65,
   "id": "2bd8d02f",
   "metadata": {},
   "outputs": [
    {
     "data": {
      "image/png": "[encoded data removed]",
      "text/plain": [
       "<Figure size 432x288 with 1 Axes>"
      ]
     },
     "metadata": {
      "needs_background": "light"
     },
     "output_type": "display_data"
    }
   ],
   "source": [
    "plt.clf()   # 그림을 초기화합니다\n",
    "\n",
    "plt.plot(epochs, acc, 'bo', label='Training acc')\n",
    "plt.plot(epochs, val_acc, 'b', label='Validation acc')\n",
    "plt.title('Training and validation accuracy')\n",
    "plt.xlabel('Epochs')\n",
    "plt.ylabel('Accuracy')\n",
    "plt.legend()\n",
    "\n",
    "plt.show()"
   ]
  },
  {
   "cell_type": "code",
   "execution_count": 66,
   "id": "b3fae607",
   "metadata": {},
   "outputs": [
    {
     "name": "stdout",
     "output_type": "stream",
     "text": [
      "dict_keys(['loss', 'accuracy', 'val_loss', 'val_accuracy'])\n"
     ]
    },
    {
     "data": {
      "image/png": "[encoded data removed]",
      "text/plain": [
       "<Figure size 432x288 with 1 Axes>"
      ]
     },
     "metadata": {
      "needs_background": "light"
     },
     "output_type": "display_data"
    }
   ],
   "source": [
    "history_dict2 = history.history\n",
    "print(history_dict2.keys()) \n",
    "\n",
    "acc = history_dict2['accuracy']\n",
    "val_acc = history_dict2['val_accuracy']\n",
    "loss = history_dict2['loss']\n",
    "val_loss = history_dict2['val_loss']\n",
    "\n",
    "epochs = range(1, len(acc) + 1)\n",
    "\n",
    "# \"bo\"는 \"파란색 점\"입니다\n",
    "plt.plot(epochs, loss, 'bo', label='Training loss')\n",
    "# b는 \"파란 실선\"입니다\n",
    "plt.plot(epochs, val_loss, 'b', label='Validation loss')\n",
    "plt.title('Training and validation loss')\n",
    "plt.xlabel('Epochs')\n",
    "plt.ylabel('Loss')\n",
    "plt.legend()\n",
    "\n",
    "plt.show()"
   ]
  },
  {
   "cell_type": "code",
   "execution_count": 67,
   "id": "565db51a",
   "metadata": {},
   "outputs": [
    {
     "data": {
      "image/png": "[encoded data removed]",
      "text/plain": [
       "<Figure size 432x288 with 1 Axes>"
      ]
     },
     "metadata": {
      "needs_background": "light"
     },
     "output_type": "display_data"
    }
   ],
   "source": [
    "plt.clf()   # 그림을 초기화합니다\n",
    "\n",
    "plt.plot(epochs, acc, 'bo', label='Training acc')\n",
    "plt.plot(epochs, val_acc, 'b', label='Validation acc')\n",
    "plt.title('Training and validation accuracy')\n",
    "plt.xlabel('Epochs')\n",
    "plt.ylabel('Accuracy')\n",
    "plt.legend()\n",
    "\n",
    "plt.show()"
   ]
  },
  {
   "cell_type": "code",
   "execution_count": 68,
   "id": "74aa428e",
   "metadata": {},
   "outputs": [
    {
     "name": "stdout",
     "output_type": "stream",
     "text": [
      "dict_keys(['loss', 'accuracy', 'val_loss', 'val_accuracy'])\n"
     ]
    },
    {
     "data": {
      "image/png": "[encoded data removed]",
      "text/plain": [
       "<Figure size 432x288 with 1 Axes>"
      ]
     },
     "metadata": {
      "needs_background": "light"
     },
     "output_type": "display_data"
    }
   ],
   "source": [
    "history_dict3 = history.history\n",
    "print(history_dict3.keys()) \n",
    "\n",
    "acc = history_dict3['accuracy']\n",
    "val_acc = history_dict3['val_accuracy']\n",
    "loss = history_dict3['loss']\n",
    "val_loss = history_dict3['val_loss']\n",
    "\n",
    "epochs = range(1, len(acc) + 1)\n",
    "\n",
    "# \"bo\"는 \"파란색 점\"입니다\n",
    "plt.plot(epochs, loss, 'bo', label='Training loss')\n",
    "# b는 \"파란 실선\"입니다\n",
    "plt.plot(epochs, val_loss, 'b', label='Validation loss')\n",
    "plt.title('Training and validation loss')\n",
    "plt.xlabel('Epochs')\n",
    "plt.ylabel('Loss')\n",
    "plt.legend()\n",
    "\n",
    "plt.show()"
   ]
  },
  {
   "cell_type": "code",
   "execution_count": 69,
   "id": "410788b4",
   "metadata": {},
   "outputs": [
    {
     "data": {
      "image/png": "[encoded data removed]",
      "text/plain": [
       "<Figure size 432x288 with 1 Axes>"
      ]
     },
     "metadata": {
      "needs_background": "light"
     },
     "output_type": "display_data"
    }
   ],
   "source": [
    "plt.clf()   # 그림을 초기화합니다\n",
    "\n",
    "plt.plot(epochs, acc, 'bo', label='Training acc')\n",
    "plt.plot(epochs, val_acc, 'b', label='Validation acc')\n",
    "plt.title('Training and validation accuracy')\n",
    "plt.xlabel('Epochs')\n",
    "plt.ylabel('Accuracy')\n",
    "plt.legend()\n",
    "\n",
    "plt.show()"
   ]
  },
  {
   "cell_type": "code",
   "execution_count": 89,
   "id": "235a3631",
   "metadata": {},
   "outputs": [
    {
     "name": "stdout",
     "output_type": "stream",
     "text": [
      "(10000, 300)\n"
     ]
    }
   ],
   "source": [
    "embedding_layer = model.layers[0]\n",
    "weights = embedding_layer.get_weights()[0]\n",
    "print(weights.shape)    # shape: (vocab_size, embedding_dim)"
   ]
  },
  {
   "cell_type": "code",
   "execution_count": 97,
   "id": "03d690cb",
   "metadata": {},
   "outputs": [],
   "source": [
    "from gensim.models import Word2Vec\n",
    "# Word2Vec 모델 파일 경로\n",
    "word2vec_path = os.getenv('HOME')+'/data/word2vec_ko.model'\n",
    "\n",
    "# Word2Vec 모델 로드\n",
    "model = Word2Vec.load(word2vec_file_path)"
   ]
  },
  {
   "cell_type": "code",
   "execution_count": 106,
   "id": "4f0f7ba9",
   "metadata": {},
   "outputs": [
    {
     "ename": "UnpicklingError",
     "evalue": "invalid load key, '3'.",
     "output_type": "error",
     "traceback": [
      "\u001b[0;31m---------------------------------------------------------------------------\u001b[0m",
      "\u001b[0;31mUnpicklingError\u001b[0m                           Traceback (most recent call last)",
      "\u001b[0;32m/tmp/ipykernel_43/106293961.py\u001b[0m in \u001b[0;36m<module>\u001b[0;34m\u001b[0m\n\u001b[1;32m      1\u001b[0m \u001b[0;32mfrom\u001b[0m \u001b[0mgensim\u001b[0m\u001b[0;34m.\u001b[0m\u001b[0mmodels\u001b[0m\u001b[0;34m.\u001b[0m\u001b[0mkeyedvectors\u001b[0m \u001b[0;32mimport\u001b[0m \u001b[0mWord2VecKeyedVectors\u001b[0m\u001b[0;34m\u001b[0m\u001b[0;34m\u001b[0m\u001b[0m\n\u001b[1;32m      2\u001b[0m \u001b[0;34m\u001b[0m\u001b[0m\n\u001b[0;32m----> 3\u001b[0;31m \u001b[0mword2vec\u001b[0m \u001b[0;34m=\u001b[0m \u001b[0mKeyedVectors\u001b[0m\u001b[0;34m.\u001b[0m\u001b[0mload\u001b[0m\u001b[0;34m(\u001b[0m\u001b[0mword2vec_path\u001b[0m\u001b[0;34m)\u001b[0m\u001b[0;34m\u001b[0m\u001b[0;34m\u001b[0m\u001b[0m\n\u001b[0m",
      "\u001b[0;32m/opt/conda/lib/python3.9/site-packages/gensim/utils.py\u001b[0m in \u001b[0;36mload\u001b[0;34m(cls, fname, mmap)\u001b[0m\n\u001b[1;32m    483\u001b[0m         \u001b[0mcompress\u001b[0m\u001b[0;34m,\u001b[0m \u001b[0msubname\u001b[0m \u001b[0;34m=\u001b[0m \u001b[0mSaveLoad\u001b[0m\u001b[0;34m.\u001b[0m\u001b[0m_adapt_by_suffix\u001b[0m\u001b[0;34m(\u001b[0m\u001b[0mfname\u001b[0m\u001b[0;34m)\u001b[0m\u001b[0;34m\u001b[0m\u001b[0;34m\u001b[0m\u001b[0m\n\u001b[1;32m    484\u001b[0m \u001b[0;34m\u001b[0m\u001b[0m\n\u001b[0;32m--> 485\u001b[0;31m         \u001b[0mobj\u001b[0m \u001b[0;34m=\u001b[0m \u001b[0munpickle\u001b[0m\u001b[0;34m(\u001b[0m\u001b[0mfname\u001b[0m\u001b[0;34m)\u001b[0m\u001b[0;34m\u001b[0m\u001b[0;34m\u001b[0m\u001b[0m\n\u001b[0m\u001b[1;32m    486\u001b[0m         \u001b[0mobj\u001b[0m\u001b[0;34m.\u001b[0m\u001b[0m_load_specials\u001b[0m\u001b[0;34m(\u001b[0m\u001b[0mfname\u001b[0m\u001b[0;34m,\u001b[0m \u001b[0mmmap\u001b[0m\u001b[0;34m,\u001b[0m \u001b[0mcompress\u001b[0m\u001b[0;34m,\u001b[0m \u001b[0msubname\u001b[0m\u001b[0;34m)\u001b[0m\u001b[0;34m\u001b[0m\u001b[0;34m\u001b[0m\u001b[0m\n\u001b[1;32m    487\u001b[0m         \u001b[0mobj\u001b[0m\u001b[0;34m.\u001b[0m\u001b[0madd_lifecycle_event\u001b[0m\u001b[0;34m(\u001b[0m\u001b[0;34m\"loaded\"\u001b[0m\u001b[0;34m,\u001b[0m \u001b[0mfname\u001b[0m\u001b[0;34m=\u001b[0m\u001b[0mfname\u001b[0m\u001b[0;34m)\u001b[0m\u001b[0;34m\u001b[0m\u001b[0;34m\u001b[0m\u001b[0m\n",
      "\u001b[0;32m/opt/conda/lib/python3.9/site-packages/gensim/utils.py\u001b[0m in \u001b[0;36munpickle\u001b[0;34m(fname)\u001b[0m\n\u001b[1;32m   1458\u001b[0m     \"\"\"\n\u001b[1;32m   1459\u001b[0m     \u001b[0;32mwith\u001b[0m \u001b[0mopen\u001b[0m\u001b[0;34m(\u001b[0m\u001b[0mfname\u001b[0m\u001b[0;34m,\u001b[0m \u001b[0;34m'rb'\u001b[0m\u001b[0;34m)\u001b[0m \u001b[0;32mas\u001b[0m \u001b[0mf\u001b[0m\u001b[0;34m:\u001b[0m\u001b[0;34m\u001b[0m\u001b[0;34m\u001b[0m\u001b[0m\n\u001b[0;32m-> 1460\u001b[0;31m         \u001b[0;32mreturn\u001b[0m \u001b[0m_pickle\u001b[0m\u001b[0;34m.\u001b[0m\u001b[0mload\u001b[0m\u001b[0;34m(\u001b[0m\u001b[0mf\u001b[0m\u001b[0;34m,\u001b[0m \u001b[0mencoding\u001b[0m\u001b[0;34m=\u001b[0m\u001b[0;34m'latin1'\u001b[0m\u001b[0;34m)\u001b[0m  \u001b[0;31m# needed because loading from S3 doesn't support readline()\u001b[0m\u001b[0;34m\u001b[0m\u001b[0;34m\u001b[0m\u001b[0m\n\u001b[0m\u001b[1;32m   1461\u001b[0m \u001b[0;34m\u001b[0m\u001b[0m\n\u001b[1;32m   1462\u001b[0m \u001b[0;34m\u001b[0m\u001b[0m\n",
      "\u001b[0;31mUnpicklingError\u001b[0m: invalid load key, '3'."
     ]
    }
   ],
   "source": [
    "# from gensim.models.keyedvectors import Word2VecKeyedVectors\n",
    "\n",
    "# word_vectors = Word2VecKeyedVectors.load_word2vec_format(word2vec_file_path, binary=False)\n",
    "# vector = word_vectors['computer']\n",
    "# vector"
   ]
  },
  {
   "cell_type": "code",
   "execution_count": 99,
   "id": "803a0673",
   "metadata": {},
   "outputs": [],
   "source": [
    "vocab_size = 10000    # 어휘 사전의 크기입니다(10,000개의 단어)\n",
    "word_vector_dim = 300  # 워드 벡터의 차원수\n",
    "embedding_matrix = np.random.rand(vocab_size, word_vector_dim)\n",
    "\n",
    "# embedding_matrix에 Word2Vec 워드 벡터를 단어 하나씩마다 차례차례 카피한다.\n",
    "for i in range(4,vocab_size):\n",
    "    if index_to_word[i] in word2vec:\n",
    "        embedding_matrix[i] = word2vec[index_to_word[i]]"
   ]
  },
  {
   "cell_type": "code",
   "execution_count": 100,
   "id": "fb51fba1",
   "metadata": {},
   "outputs": [],
   "source": [
    "from tensorflow.keras.initializers import Constant\n",
    "\n",
    "vocab_size = 10000    # 어휘 사전의 크기입니다(10,000개의 단어)\n",
    "word_vector_dim = 300  # 워드 벡터의 차원 수 "
   ]
  },
  {
   "cell_type": "code",
   "execution_count": 113,
   "id": "0d60d7ea",
   "metadata": {},
   "outputs": [
    {
     "name": "stdout",
     "output_type": "stream",
     "text": [
      "Epoch 1/50\n",
      "46/46 [==============================] - 4s 38ms/step - loss: 0.0032 - accuracy: 0.9982 - val_loss: 2.5702 - val_accuracy: 0.7874\n",
      "Epoch 2/50\n",
      "46/46 [==============================] - 1s 21ms/step - loss: 0.0028 - accuracy: 0.9984 - val_loss: 2.5755 - val_accuracy: 0.7905\n",
      "Epoch 3/50\n",
      "46/46 [==============================] - 1s 22ms/step - loss: 0.0031 - accuracy: 0.9985 - val_loss: 2.5306 - val_accuracy: 0.7911\n",
      "Epoch 4/50\n",
      "46/46 [==============================] - 1s 21ms/step - loss: 0.0041 - accuracy: 0.9979 - val_loss: 2.5502 - val_accuracy: 0.7829\n",
      "Epoch 5/50\n",
      "46/46 [==============================] - 1s 21ms/step - loss: 0.0040 - accuracy: 0.9979 - val_loss: 2.3437 - val_accuracy: 0.7905\n",
      "Epoch 6/50\n",
      "46/46 [==============================] - 1s 21ms/step - loss: 0.0033 - accuracy: 0.9982 - val_loss: 2.4155 - val_accuracy: 0.7930\n",
      "Epoch 7/50\n",
      "46/46 [==============================] - 1s 21ms/step - loss: 0.0028 - accuracy: 0.9982 - val_loss: 2.4745 - val_accuracy: 0.7913\n",
      "Epoch 8/50\n",
      "46/46 [==============================] - 1s 21ms/step - loss: 0.0026 - accuracy: 0.9984 - val_loss: 2.5457 - val_accuracy: 0.7915\n",
      "Epoch 9/50\n",
      "46/46 [==============================] - 1s 21ms/step - loss: 0.0025 - accuracy: 0.9983 - val_loss: 2.5799 - val_accuracy: 0.7913\n",
      "Epoch 10/50\n",
      "46/46 [==============================] - 1s 21ms/step - loss: 0.0029 - accuracy: 0.9984 - val_loss: 2.5487 - val_accuracy: 0.7909\n",
      "Epoch 11/50\n",
      "46/46 [==============================] - 1s 21ms/step - loss: 0.0025 - accuracy: 0.9984 - val_loss: 2.5875 - val_accuracy: 0.7919\n",
      "Epoch 12/50\n",
      "46/46 [==============================] - 1s 21ms/step - loss: 0.0025 - accuracy: 0.9985 - val_loss: 2.6081 - val_accuracy: 0.7921\n",
      "Epoch 13/50\n",
      "46/46 [==============================] - 1s 21ms/step - loss: 0.0027 - accuracy: 0.9984 - val_loss: 2.6064 - val_accuracy: 0.7914\n",
      "Epoch 14/50\n",
      "46/46 [==============================] - 1s 21ms/step - loss: 0.0026 - accuracy: 0.9984 - val_loss: 2.6608 - val_accuracy: 0.7904\n",
      "Epoch 15/50\n",
      "46/46 [==============================] - 1s 21ms/step - loss: 0.0024 - accuracy: 0.9984 - val_loss: 2.6791 - val_accuracy: 0.7913\n",
      "Epoch 16/50\n",
      "46/46 [==============================] - 1s 21ms/step - loss: 0.0024 - accuracy: 0.9983 - val_loss: 2.7127 - val_accuracy: 0.7913\n",
      "Epoch 17/50\n",
      "46/46 [==============================] - 1s 21ms/step - loss: 0.0025 - accuracy: 0.9985 - val_loss: 2.7126 - val_accuracy: 0.7913\n",
      "Epoch 18/50\n",
      "46/46 [==============================] - 1s 21ms/step - loss: 0.0025 - accuracy: 0.9985 - val_loss: 2.7247 - val_accuracy: 0.7910\n",
      "Epoch 19/50\n",
      "46/46 [==============================] - 1s 21ms/step - loss: 0.0025 - accuracy: 0.9985 - val_loss: 2.7123 - val_accuracy: 0.7916\n",
      "Epoch 20/50\n",
      "46/46 [==============================] - 1s 21ms/step - loss: 0.0024 - accuracy: 0.9986 - val_loss: 2.7627 - val_accuracy: 0.7917\n",
      "Epoch 21/50\n",
      "46/46 [==============================] - 1s 22ms/step - loss: 0.0024 - accuracy: 0.9985 - val_loss: 2.7856 - val_accuracy: 0.7915\n",
      "Epoch 22/50\n",
      "46/46 [==============================] - 1s 21ms/step - loss: 0.0026 - accuracy: 0.9985 - val_loss: 2.7606 - val_accuracy: 0.7904\n",
      "Epoch 23/50\n",
      "46/46 [==============================] - 1s 22ms/step - loss: 0.0025 - accuracy: 0.9984 - val_loss: 2.7757 - val_accuracy: 0.7915\n",
      "Epoch 24/50\n",
      "46/46 [==============================] - 1s 21ms/step - loss: 0.0025 - accuracy: 0.9984 - val_loss: 2.7848 - val_accuracy: 0.7908\n",
      "Epoch 25/50\n",
      "46/46 [==============================] - 1s 22ms/step - loss: 0.0024 - accuracy: 0.9983 - val_loss: 2.8351 - val_accuracy: 0.7918\n",
      "Epoch 26/50\n",
      "46/46 [==============================] - 1s 21ms/step - loss: 0.0024 - accuracy: 0.9985 - val_loss: 2.8137 - val_accuracy: 0.7911\n",
      "Epoch 27/50\n",
      "46/46 [==============================] - 1s 21ms/step - loss: 0.0025 - accuracy: 0.9984 - val_loss: 2.8451 - val_accuracy: 0.7917\n",
      "Epoch 28/50\n",
      "46/46 [==============================] - 1s 22ms/step - loss: 0.0025 - accuracy: 0.9983 - val_loss: 2.8447 - val_accuracy: 0.7905\n",
      "Epoch 29/50\n",
      "46/46 [==============================] - 1s 21ms/step - loss: 0.0027 - accuracy: 0.9984 - val_loss: 2.8353 - val_accuracy: 0.7896\n",
      "Epoch 30/50\n",
      "46/46 [==============================] - 1s 21ms/step - loss: 0.0102 - accuracy: 0.9963 - val_loss: 2.1622 - val_accuracy: 0.7904\n",
      "Epoch 31/50\n",
      "46/46 [==============================] - 1s 22ms/step - loss: 0.0195 - accuracy: 0.9931 - val_loss: 1.8260 - val_accuracy: 0.7869\n",
      "Epoch 32/50\n",
      "46/46 [==============================] - 1s 21ms/step - loss: 0.0073 - accuracy: 0.9966 - val_loss: 1.9288 - val_accuracy: 0.7926\n",
      "Epoch 33/50\n",
      "46/46 [==============================] - 1s 22ms/step - loss: 0.0039 - accuracy: 0.9981 - val_loss: 2.1096 - val_accuracy: 0.7893\n",
      "Epoch 34/50\n",
      "46/46 [==============================] - 1s 21ms/step - loss: 0.0028 - accuracy: 0.9985 - val_loss: 2.1971 - val_accuracy: 0.7899\n",
      "Epoch 35/50\n",
      "46/46 [==============================] - 1s 21ms/step - loss: 0.0026 - accuracy: 0.9984 - val_loss: 2.2435 - val_accuracy: 0.7897\n",
      "Epoch 36/50\n",
      "46/46 [==============================] - 1s 22ms/step - loss: 0.0025 - accuracy: 0.9984 - val_loss: 2.2927 - val_accuracy: 0.7901\n",
      "Epoch 37/50\n",
      "46/46 [==============================] - 1s 21ms/step - loss: 0.0025 - accuracy: 0.9984 - val_loss: 2.3309 - val_accuracy: 0.7897\n",
      "Epoch 38/50\n",
      "46/46 [==============================] - 1s 21ms/step - loss: 0.0025 - accuracy: 0.9986 - val_loss: 2.3632 - val_accuracy: 0.7895\n",
      "Epoch 39/50\n",
      "46/46 [==============================] - 1s 21ms/step - loss: 0.0025 - accuracy: 0.9984 - val_loss: 2.3899 - val_accuracy: 0.7898\n",
      "Epoch 40/50\n",
      "46/46 [==============================] - 1s 21ms/step - loss: 0.0024 - accuracy: 0.9985 - val_loss: 2.4219 - val_accuracy: 0.7895\n",
      "Epoch 41/50\n",
      "46/46 [==============================] - 1s 22ms/step - loss: 0.0024 - accuracy: 0.9984 - val_loss: 2.4557 - val_accuracy: 0.7896\n",
      "Epoch 42/50\n",
      "46/46 [==============================] - 1s 21ms/step - loss: 0.0027 - accuracy: 0.9984 - val_loss: 2.4609 - val_accuracy: 0.7884\n",
      "Epoch 43/50\n",
      "46/46 [==============================] - 1s 21ms/step - loss: 0.0028 - accuracy: 0.9984 - val_loss: 2.4511 - val_accuracy: 0.7894\n",
      "Epoch 44/50\n",
      "46/46 [==============================] - 1s 21ms/step - loss: 0.0025 - accuracy: 0.9985 - val_loss: 2.4729 - val_accuracy: 0.7892\n",
      "Epoch 45/50\n",
      "46/46 [==============================] - 1s 21ms/step - loss: 0.0024 - accuracy: 0.9984 - val_loss: 2.5127 - val_accuracy: 0.7893\n",
      "Epoch 46/50\n",
      "46/46 [==============================] - 1s 21ms/step - loss: 0.0023 - accuracy: 0.9985 - val_loss: 2.5310 - val_accuracy: 0.7893\n",
      "Epoch 47/50\n",
      "46/46 [==============================] - 1s 21ms/step - loss: 0.0024 - accuracy: 0.9984 - val_loss: 2.5655 - val_accuracy: 0.7897\n",
      "Epoch 48/50\n",
      "46/46 [==============================] - 1s 21ms/step - loss: 0.0026 - accuracy: 0.9982 - val_loss: 2.5614 - val_accuracy: 0.7893\n",
      "Epoch 49/50\n",
      "46/46 [==============================] - 1s 21ms/step - loss: 0.0025 - accuracy: 0.9983 - val_loss: 2.5784 - val_accuracy: 0.7897\n",
      "Epoch 50/50\n",
      "46/46 [==============================] - 1s 21ms/step - loss: 0.0024 - accuracy: 0.9984 - val_loss: 2.5765 - val_accuracy: 0.7892\n"
     ]
    }
   ],
   "source": [
    "# model3.compile(optimizer='adam',\n",
    "#               loss='binary_crossentropy',\n",
    "#               metrics=['accuracy'])\n",
    "              \n",
    "# epochs = 50  \n",
    "\n",
    "# history4 = model3.fit(partial_x_train,\n",
    "#                     partial_y_train,\n",
    "#                     epochs=epochs,\n",
    "#                     batch_size=1024,\n",
    "#                     validation_data=(x_val, y_val),\n",
    "#                     verbose=1)"
   ]
  },
  {
   "cell_type": "code",
   "execution_count": 115,
   "id": "7668b6c0",
   "metadata": {},
   "outputs": [
    {
     "name": "stdout",
     "output_type": "stream",
     "text": [
      "WARNING:tensorflow:Layer lstm_5 will not use cuDNN kernels since it doesn't meet the criteria. It will use a generic GPU kernel as fallback when running on GPU.\n",
      "WARNING:tensorflow:Layer lstm_6 will not use cuDNN kernels since it doesn't meet the criteria. It will use a generic GPU kernel as fallback when running on GPU.\n",
      "Model: \"sequential_7\"\n",
      "_________________________________________________________________\n",
      "Layer (type)                 Output Shape              Param #   \n",
      "=================================================================\n",
      "embedding_6 (Embedding)      (None, None, 300)         3000000   \n",
      "_________________________________________________________________\n",
      "lstm_5 (LSTM)                (None, None, 128)         219648    \n",
      "_________________________________________________________________\n",
      "lstm_6 (LSTM)                (None, 64)                49408     \n",
      "_________________________________________________________________\n",
      "dense_12 (Dense)             (None, 32)                2080      \n",
      "_________________________________________________________________\n",
      "dropout (Dropout)            (None, 32)                0         \n",
      "_________________________________________________________________\n",
      "dense_13 (Dense)             (None, 1)                 33        \n",
      "=================================================================\n",
      "Total params: 3,271,169\n",
      "Trainable params: 3,271,169\n",
      "Non-trainable params: 0\n",
      "_________________________________________________________________\n"
     ]
    }
   ],
   "source": [
    "# 모델 정의\n",
    "model4 = tf.keras.Sequential()\n",
    "model4.add(tf.keras.layers.Embedding(vocab_size, word_vector_dim, input_shape=(None,)))\n",
    "model4.add(tf.keras.layers.LSTM(128, return_sequences=True, dropout=0.2, recurrent_dropout=0.2)) \n",
    "model4.add(tf.keras.layers.LSTM(64, dropout=0.2, recurrent_dropout=0.2)) \n",
    "model4.add(tf.keras.layers.Dense(32, activation='relu'))\n",
    "model4.add(tf.keras.layers.Dropout(0.5)) # Dropout 추가\n",
    "model4.add(tf.keras.layers.Dense(1, activation='sigmoid'))\n",
    "\n",
    "# 모델 요약\n",
    "model4.summary()"
   ]
  },
  {
   "cell_type": "code",
   "execution_count": 119,
   "id": "7692fd7f",
   "metadata": {},
   "outputs": [
    {
     "name": "stdout",
     "output_type": "stream",
     "text": [
      "Epoch 1/25\n",
      "91/91 [==============================] - 46s 446ms/step - loss: 0.0894 - accuracy: 0.9651 - val_loss: 0.8517 - val_accuracy: 0.8291\n",
      "Epoch 2/25\n",
      "91/91 [==============================] - 40s 445ms/step - loss: 0.0709 - accuracy: 0.9709 - val_loss: 1.0120 - val_accuracy: 0.8201\n",
      "Epoch 3/25\n",
      "91/91 [==============================] - 40s 444ms/step - loss: 0.0664 - accuracy: 0.9733 - val_loss: 0.9641 - val_accuracy: 0.8175\n",
      "Epoch 4/25\n",
      "91/91 [==============================] - 40s 441ms/step - loss: 0.0613 - accuracy: 0.9755 - val_loss: 1.1007 - val_accuracy: 0.8218\n",
      "Epoch 5/25\n",
      "91/91 [==============================] - 41s 446ms/step - loss: 0.0549 - accuracy: 0.9785 - val_loss: 1.1826 - val_accuracy: 0.8213\n",
      "Epoch 6/25\n",
      "91/91 [==============================] - 40s 437ms/step - loss: 0.0530 - accuracy: 0.9787 - val_loss: 1.2188 - val_accuracy: 0.8210\n",
      "Epoch 7/25\n",
      "91/91 [==============================] - 40s 439ms/step - loss: 0.0500 - accuracy: 0.9806 - val_loss: 1.2814 - val_accuracy: 0.8232\n",
      "Epoch 8/25\n",
      "91/91 [==============================] - 40s 439ms/step - loss: 0.0481 - accuracy: 0.9808 - val_loss: 1.2960 - val_accuracy: 0.8213\n",
      "Epoch 9/25\n",
      "91/91 [==============================] - 40s 441ms/step - loss: 0.0452 - accuracy: 0.9823 - val_loss: 1.3051 - val_accuracy: 0.8184\n",
      "Epoch 10/25\n",
      "91/91 [==============================] - 40s 435ms/step - loss: 0.0426 - accuracy: 0.9833 - val_loss: 1.3525 - val_accuracy: 0.8181\n",
      "Epoch 11/25\n",
      "91/91 [==============================] - 40s 435ms/step - loss: 0.0417 - accuracy: 0.9828 - val_loss: 1.3190 - val_accuracy: 0.8202\n",
      "Epoch 12/25\n",
      "91/91 [==============================] - 39s 430ms/step - loss: 0.0333 - accuracy: 0.9864 - val_loss: 1.4913 - val_accuracy: 0.8199\n",
      "Epoch 13/25\n",
      "91/91 [==============================] - 39s 433ms/step - loss: 0.0350 - accuracy: 0.9861 - val_loss: 1.4632 - val_accuracy: 0.8156\n",
      "Epoch 14/25\n",
      "91/91 [==============================] - 39s 433ms/step - loss: 0.0337 - accuracy: 0.9866 - val_loss: 1.5670 - val_accuracy: 0.8199\n",
      "Epoch 15/25\n",
      "91/91 [==============================] - 40s 435ms/step - loss: 0.0316 - accuracy: 0.9875 - val_loss: 1.6202 - val_accuracy: 0.8202\n",
      "Epoch 16/25\n",
      "91/91 [==============================] - 39s 434ms/step - loss: 0.0275 - accuracy: 0.9887 - val_loss: 1.7108 - val_accuracy: 0.8201\n",
      "Epoch 17/25\n",
      "91/91 [==============================] - 40s 436ms/step - loss: 0.0311 - accuracy: 0.9876 - val_loss: 1.5130 - val_accuracy: 0.8171\n",
      "Epoch 18/25\n",
      "91/91 [==============================] - 40s 435ms/step - loss: 0.0278 - accuracy: 0.9888 - val_loss: 1.6229 - val_accuracy: 0.8161\n",
      "Epoch 19/25\n",
      "91/91 [==============================] - 40s 438ms/step - loss: 0.0273 - accuracy: 0.9885 - val_loss: 1.6956 - val_accuracy: 0.8138\n",
      "Epoch 20/25\n",
      "91/91 [==============================] - 39s 433ms/step - loss: 0.0270 - accuracy: 0.9894 - val_loss: 1.6028 - val_accuracy: 0.8145\n",
      "Epoch 21/25\n",
      "91/91 [==============================] - 40s 437ms/step - loss: 0.0289 - accuracy: 0.9889 - val_loss: 1.6189 - val_accuracy: 0.8211\n",
      "Epoch 22/25\n",
      "91/91 [==============================] - 39s 434ms/step - loss: 0.0238 - accuracy: 0.9905 - val_loss: 1.7344 - val_accuracy: 0.8207\n",
      "Epoch 23/25\n",
      "91/91 [==============================] - 40s 436ms/step - loss: 0.0210 - accuracy: 0.9909 - val_loss: 1.8411 - val_accuracy: 0.8173\n",
      "Epoch 24/25\n",
      "91/91 [==============================] - 40s 437ms/step - loss: 0.0225 - accuracy: 0.9909 - val_loss: 1.6560 - val_accuracy: 0.8162\n",
      "Epoch 25/25\n",
      "91/91 [==============================] - 40s 445ms/step - loss: 0.0206 - accuracy: 0.9912 - val_loss: 1.7552 - val_accuracy: 0.8191\n"
     ]
    }
   ],
   "source": [
    "model4.compile(optimizer='adam',\n",
    "              loss='binary_crossentropy',\n",
    "              metrics=['accuracy'])\n",
    "              \n",
    "epochs = 25  \n",
    "\n",
    "history4 = model4.fit(partial_x_train,\n",
    "                    partial_y_train,\n",
    "                    epochs=epochs,\n",
    "                    batch_size=512,\n",
    "                    validation_data=(x_val, y_val),\n",
    "                    verbose=1)"
   ]
  },
  {
   "cell_type": "code",
   "execution_count": 120,
   "id": "a5e90ddf",
   "metadata": {},
   "outputs": [
    {
     "name": "stdout",
     "output_type": "stream",
     "text": [
      "1537/1537 - 36s - loss: 1.8006 - accuracy: 0.8146\n",
      "[1.8006069660186768, 0.8145737051963806]\n"
     ]
    }
   ],
   "source": [
    "results4 = model4.evaluate(X_test,  y_test, verbose=2)\n",
    "\n",
    "print(results4)"
   ]
  },
  {
   "cell_type": "markdown",
   "id": "b2712726",
   "metadata": {},
   "source": [
    "### 회고\n",
    "- 잘 진행했는 지 모르겠다.\n",
    "- 파이토치만 쓰다가 텐서플로우와 케라스를 사용하니 더 어려운 것 같다.\n",
    "- 모델을 다양하게 써봐서 좋은 경험이었다.\n",
    "- 예상은 LSTM보다 BiLSTM, Stacked LSTM이 훨씬 뛰어난 성능을 보일 것 같았는데 test에 대한 acc값은 큰 차이가 나지 않았다.\n",
    "- 시간이 조금 더 있었더라면 성능을 높일 수 있을 것 같은데 아쉽다. ㅜ\n",
    "- 자연어 어렵다"
   ]
  },
  {
   "cell_type": "code",
   "execution_count": null,
   "id": "67cad42d",
   "metadata": {},
   "outputs": [],
   "source": []
  }
 ],
 "metadata": {
  "kernelspec": {
   "display_name": "Python 3 (ipykernel)",
   "language": "python",
   "name": "python3"
  },
  "language_info": {
   "codemirror_mode": {
    "name": "ipython",
    "version": 3
   },
   "file_extension": ".py",
   "mimetype": "text/x-python",
   "name": "python",
   "nbconvert_exporter": "python",
   "pygments_lexer": "ipython3",
   "version": "3.9.7"
  }
 },
 "nbformat": 4,
 "nbformat_minor": 5
}
